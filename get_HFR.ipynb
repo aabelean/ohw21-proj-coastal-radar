{
 "cells": [
  {
   "cell_type": "code",
   "execution_count": 1,
   "id": "62bde6ef-2c73-4b6a-9515-4a9b092c02c1",
   "metadata": {},
   "outputs": [],
   "source": [
    "from netCDF4 import Dataset\n",
    "import netCDF4 as netcdf\n",
    "import numpy as np\n",
    "import matplotlib.pyplot as plt\n",
    "import matplotlib.ticker as mticker\n",
    "import matplotlib as mpl\n",
    "\n",
    "#mapping\n",
    "import cartopy.crs as ccrs\n",
    "import cartopy.feature as cfeature\n",
    "from cartopy.io import shapereader\n",
    "from cartopy.mpl.gridliner import LONGITUDE_FORMATTER, LATITUDE_FORMATTER\n",
    "from cartopy.mpl.ticker import LongitudeFormatter, LatitudeFormatter\n",
    "\n",
    "import xarray as xr\n",
    "import xarray.ufuncs as xu\n",
    "\n"
   ]
  },
  {
   "cell_type": "code",
   "execution_count": 2,
   "id": "f3edf798-5c23-4da1-a6cb-f53025f1f345",
   "metadata": {},
   "outputs": [],
   "source": [
    "hfr_url = \"https://hfrnet-tds.ucsd.edu/thredds/dodsC/HFR/USEGC/6km/hourly/RTV/HFRADAR_US_East_and_Gulf_Coast_6km_Resolution_Hourly_RTV_best.ncd\"\n",
    "data = xr.open_dataset(hfr_url)"
   ]
  },
  {
   "cell_type": "code",
   "execution_count": 4,
   "id": "5ee862bd-e7e5-488a-8946-733ae5b06781",
   "metadata": {},
   "outputs": [],
   "source": [
    "min_lon = -76.\n",
    "min_lat = 36.5\n",
    "max_lon = -73.\n",
    "max_lat = 39.5\n",
    "\n",
    "mask_lon = (data.lon >= min_lon) & (data.lon <= max_lon)\n",
    "mask_lat = (data.lat >= min_lat) & (data.lat <= max_lat)\n"
   ]
  },
  {
   "cell_type": "code",
   "execution_count": 6,
   "id": "fe024880-4e1f-4de3-bde9-46c3244e97c7",
   "metadata": {},
   "outputs": [
    {
     "name": "stdout",
     "output_type": "stream",
     "text": [
      "CPU times: user 464 ms, sys: 149 ms, total: 613 ms\n",
      "Wall time: 20 s\n"
     ]
    }
   ],
   "source": [
    "time subset_ds = data.sel(time=slice(\"2020-05-01T00:00:00\", \"2020-05-31T23:00:00\")).where(mask_lon & mask_lat, drop=True)"
   ]
  },
  {
   "cell_type": "code",
   "execution_count": 7,
   "id": "af494c7e-8b2c-4002-85d1-e9ac637ddf6c",
   "metadata": {},
   "outputs": [],
   "source": [
    "subset_ds.to_netcdf(path='./data/hf_radar_05_2020.nc')"
   ]
  }
 ],
 "metadata": {
  "kernelspec": {
   "display_name": "Python 3 (ipykernel)",
   "language": "python",
   "name": "python3"
  },
  "language_info": {
   "codemirror_mode": {
    "name": "ipython",
    "version": 3
   },
   "file_extension": ".py",
   "mimetype": "text/x-python",
   "name": "python",
   "nbconvert_exporter": "python",
   "pygments_lexer": "ipython3",
   "version": "3.9.6"
  }
 },
 "nbformat": 4,
 "nbformat_minor": 5
}

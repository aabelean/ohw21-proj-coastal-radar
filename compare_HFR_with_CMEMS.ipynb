{
 "cells": [
  {
   "cell_type": "code",
   "execution_count": 1,
   "id": "2ba145af-4ad4-448f-bbae-f6cf952681d2",
   "metadata": {},
   "outputs": [],
   "source": [
    "from netCDF4 import Dataset\n",
    "import netCDF4 as netcdf\n",
    "import numpy as np\n",
    "import matplotlib.pyplot as plt\n",
    "import matplotlib.ticker as mticker\n",
    "import matplotlib as mpl\n",
    "\n",
    "#mapping\n",
    "import cartopy.crs as ccrs\n",
    "import cartopy.feature as cfeature\n",
    "from cartopy.io import shapereader\n",
    "from cartopy.mpl.gridliner import LONGITUDE_FORMATTER, LATITUDE_FORMATTER\n",
    "from cartopy.mpl.ticker import LongitudeFormatter, LatitudeFormatter\n",
    "\n",
    "import xarray as xr\n",
    "import xarray.ufuncs as xu\n",
    "from scipy.interpolate import griddata\n",
    "#from pyresample.geometry import SwathDefinition\n",
    "#from pyresample.kd_tree import resample_nearest"
   ]
  },
  {
   "cell_type": "code",
   "execution_count": 2,
   "id": "686c3971-a081-40de-95cf-17c3428b0fd6",
   "metadata": {},
   "outputs": [],
   "source": [
    "hfr_loc = \"./data/hf_radar_05_2020.nc\" "
   ]
  },
  {
   "cell_type": "code",
   "execution_count": 3,
   "id": "49457574-b09b-4e24-8372-147fccf6b9fa",
   "metadata": {},
   "outputs": [],
   "source": [
    "hfrdata = xr.open_dataset(hfr_loc)"
   ]
  },
  {
   "cell_type": "code",
   "execution_count": 4,
   "id": "f6ec0056-db79-4268-9ea4-f8a84c1cf3a0",
   "metadata": {},
   "outputs": [],
   "source": [
    "lat_hfr=hfrdata.variables['lat'][:]\n",
    "lon_hfr=hfrdata.variables['lon'][:]\n",
    "time_hfr=hfrdata.variables['time'][:]\n"
   ]
  },
  {
   "cell_type": "code",
   "execution_count": 19,
   "id": "82269817-03a0-44a6-ae85-71c0b7e2a859",
   "metadata": {},
   "outputs": [
    {
     "name": "stdout",
     "output_type": "stream",
     "text": [
      "(56,)\n",
      "(52,)\n"
     ]
    }
   ],
   "source": [
    "print(lat_hfr.shape)\n",
    "print(lon_hfr.shape)"
   ]
  },
  {
   "cell_type": "code",
   "execution_count": 11,
   "id": "741b2a3b-084a-4a9c-b882-58d9de8561e0",
   "metadata": {},
   "outputs": [],
   "source": [
    "u_hfr=hfrdata.variables['u'][0,:,:]\n",
    "v_hfr=hfrdata.variables['v'][0,:,:]"
   ]
  },
  {
   "cell_type": "code",
   "execution_count": 25,
   "id": "eb8143f1-a8ec-4d83-b7ce-506ab7cbd9df",
   "metadata": {},
   "outputs": [
    {
     "name": "stdout",
     "output_type": "stream",
     "text": [
      "<xarray.Variable (lat: 56, lon: 52)>\n",
      "array([[       nan,        nan,        nan, ...,        nan,        nan,\n",
      "               nan],\n",
      "       [       nan,        nan,        nan, ...,        nan,        nan,\n",
      "               nan],\n",
      "       [       nan,        nan,        nan, ...,        nan,        nan,\n",
      "               nan],\n",
      "       ...,\n",
      "       [       nan,        nan,        nan, ..., 0.12165525, 0.1264911 ,\n",
      "        0.15264337],\n",
      "       [       nan,        nan,        nan, ..., 0.1118034 , 0.18027756,\n",
      "        0.1720465 ],\n",
      "       [       nan,        nan,        nan, ..., 0.12369317, 0.11661904,\n",
      "        0.1360147 ]], dtype=float32)\n"
     ]
    }
   ],
   "source": [
    "CurrMag=np.sqrt(u_hfr**2+v_hfr**2)\n",
    "print(CurrMag)"
   ]
  },
  {
   "cell_type": "code",
   "execution_count": 28,
   "id": "c008444f-e7d4-4ccd-b3f7-91b38987e9a6",
   "metadata": {},
   "outputs": [],
   "source": [
    "x_hfr, y_hfr = np.meshgrid(lon_hfr,lat_hfr)\n",
    "newx = x_hfr.ravel()\n",
    "newy = y_hfr.ravel()\n",
    "newCurrMag = CurrMag.values.ravel()\n",
    "index = ~np.isnan(newCurrMag)\n",
    "hfr_speed = newCurrMag[index]\n",
    "hfr_x = newx[index]\n",
    "hfr_y = newy[index]"
   ]
  },
  {
   "cell_type": "code",
   "execution_count": 31,
   "id": "2cc67d46-4187-4c6f-a27c-6fea0e8fa6f9",
   "metadata": {},
   "outputs": [
    {
     "data": {
      "text/plain": [
       "((1732,), (1732,), (1732,))"
      ]
     },
     "execution_count": 31,
     "metadata": {},
     "output_type": "execute_result"
    }
   ],
   "source": [
    "hfr_speed.shape,hfr_x.shape,hfr_y.shape"
   ]
  },
  {
   "cell_type": "code",
   "execution_count": 5,
   "id": "7219e22c-3566-4a0f-a1ce-b8b6daf60dd0",
   "metadata": {},
   "outputs": [],
   "source": [
    "cmems_loc = \"./data/CMEMS-global-analysis-forecast-phy-001-024-hourly-u-v.nc\" "
   ]
  },
  {
   "cell_type": "code",
   "execution_count": 6,
   "id": "a15bc582-daaf-4ed3-8b62-f728c22b4d14",
   "metadata": {},
   "outputs": [],
   "source": [
    "cmemsdata = xr.open_dataset(cmems_loc)"
   ]
  },
  {
   "cell_type": "code",
   "execution_count": 7,
   "id": "cf5ea950-0969-48b0-86f4-da673cbccab7",
   "metadata": {},
   "outputs": [],
   "source": [
    "lat_cmems=cmemsdata.variables['latitude'][:]\n",
    "lon_cmems=cmemsdata.variables['longitude'][:]\n",
    "time_cmems=cmemsdata.variables['time'][:]"
   ]
  },
  {
   "cell_type": "code",
   "execution_count": 14,
   "id": "448a2bf4-5bed-4ccc-bfd9-51ee681e43f2",
   "metadata": {},
   "outputs": [],
   "source": [
    "u_cmems=np.squeeze(cmemsdata.variables['uo'][0,:,:,:])\n",
    "v_cmems=np.squeeze(cmemsdata.variables['vo'][0,:,:,:])\n",
    "t_cmems = time_cmems.values[0]"
   ]
  },
  {
   "cell_type": "code",
   "execution_count": 15,
   "id": "231c9c33-a89f-4bb4-a5b6-cdaf92e500c9",
   "metadata": {},
   "outputs": [],
   "source": [
    "CurrMag_cmems=np.sqrt(u_cmems**2+v_cmems**2)"
   ]
  },
  {
   "cell_type": "code",
   "execution_count": 16,
   "id": "287b3b74-d20d-49c8-b375-8e9b0f568a80",
   "metadata": {},
   "outputs": [],
   "source": [
    "x_cmems, y_cmems = np.meshgrid(lon_cmems,lat_cmems)"
   ]
  },
  {
   "cell_type": "code",
   "execution_count": 37,
   "id": "dfc162b7-7a5f-46dd-a3e3-032ecd4da15c",
   "metadata": {},
   "outputs": [],
   "source": [
    "hfr_speed_i = griddata((hfr_x, hfr_y), hfr_speed, (x_cmems, y_cmems), method='linear')"
   ]
  },
  {
   "cell_type": "code",
   "execution_count": 38,
   "id": "b9d616a0-98ba-463e-9e0b-f9ce7b1e6adb",
   "metadata": {},
   "outputs": [
    {
     "name": "stderr",
     "output_type": "stream",
     "text": [
      "/tmp/ipykernel_3461/2206102221.py:1: MatplotlibDeprecationWarning: shading='flat' when X and Y have the same dimensions as C is deprecated since 3.3.  Either specify the corners of the quadrilaterals with X and Y, or pass shading='auto', 'nearest' or 'gouraud', or set rcParams['pcolor.shading'].  This will become an error two minor releases later.\n",
      "  plt.pcolormesh(x_cmems, y_cmems,hfr_speed_i)\n"
     ]
    },
    {
     "data": {
      "text/plain": [
       "<matplotlib.collections.QuadMesh at 0x7fb9a2341d00>"
      ]
     },
     "execution_count": 38,
     "metadata": {},
     "output_type": "execute_result"
    },
    {
     "data": {
      "image/png": "[encoded data removed]",
      "text/plain": [
       "<Figure size 432x288 with 1 Axes>"
      ]
     },
     "metadata": {
      "needs_background": "light"
     },
     "output_type": "display_data"
    }
   ],
   "source": [
    "plt.pcolormesh(x_cmems, y_cmems,hfr_speed_i)"
   ]
  },
  {
   "cell_type": "code",
   "execution_count": null,
   "id": "e90d56af-0c36-4489-bd4a-c70a64068670",
   "metadata": {},
   "outputs": [],
   "source": []
  }
 ],
 "metadata": {
  "kernelspec": {
   "display_name": "Python 3 (ipykernel)",
   "language": "python",
   "name": "python3"
  },
  "language_info": {
   "codemirror_mode": {
    "name": "ipython",
    "version": 3
   },
   "file_extension": ".py",
   "mimetype": "text/x-python",
   "name": "python",
   "nbconvert_exporter": "python",
   "pygments_lexer": "ipython3",
   "version": "3.9.6"
  }
 },
 "nbformat": 4,
 "nbformat_minor": 5
}

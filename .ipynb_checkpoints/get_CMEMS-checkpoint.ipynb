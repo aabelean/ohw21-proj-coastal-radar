{
 "cells": [
  {
   "cell_type": "code",
   "execution_count": 1,
   "id": "ec50f897-c563-44df-b687-2fabcb9c99c9",
   "metadata": {},
   "outputs": [],
   "source": [
    "from netCDF4 import Dataset\n",
    "import netCDF4 as netcdf\n",
    "import numpy as np\n",
    "import matplotlib.pyplot as plt\n",
    "import matplotlib.ticker as mticker\n",
    "import matplotlib as mpl\n",
    "\n",
    "#mapping\n",
    "import cartopy.crs as ccrs\n",
    "import cartopy.feature as cfeature\n",
    "from cartopy.io import shapereader\n",
    "from cartopy.mpl.gridliner import LONGITUDE_FORMATTER, LATITUDE_FORMATTER\n",
    "from cartopy.mpl.ticker import LongitudeFormatter, LatitudeFormatter\n",
    "\n",
    "import xarray as xr\n",
    "import xarray.ufuncs as xu"
   ]
  },
  {
   "cell_type": "code",
   "execution_count": 2,
   "id": "e5aa9f00-0b2b-40db-b5db-be576390a3e4",
   "metadata": {},
   "outputs": [],
   "source": [
    "aggr_url = \"./data/CMEMS-global-analysis-forecast-phy-001-024-hourly-u-v.nc\" #why did this location not work?\n",
    " "
   ]
  },
  {
   "cell_type": "code",
   "execution_count": 3,
   "id": "b44f7739-4c91-479b-9e17-b508b2d72522",
   "metadata": {},
   "outputs": [],
   "source": [
    "data = xr.open_dataset(aggr_url)"
   ]
  },
  {
   "cell_type": "code",
   "execution_count": 4,
   "id": "00fde561-09a7-4ad6-856b-0735328941b5",
   "metadata": {},
   "outputs": [
    {
     "name": "stdout",
     "output_type": "stream",
     "text": [
      "depth (1,)\n",
      "latitude (37,)\n",
      "vo (744, 1, 37, 37)\n",
      "uo (744, 1, 37, 37)\n",
      "time (744,)\n",
      "longitude (37,)\n"
     ]
    }
   ],
   "source": [
    "for variable in data.variables:\n",
    "    print(variable,data.variables[variable].shape)\n"
   ]
  },
  {
   "cell_type": "code",
   "execution_count": 5,
   "id": "e82ce6e3-2818-4f7f-bc74-88e47f8523af",
   "metadata": {},
   "outputs": [],
   "source": [
    "lat=data.variables['latitude'][:]\n",
    "lon=data.variables['longitude'][:]\n",
    "time=data.variables['time'][:]"
   ]
  },
  {
   "cell_type": "markdown",
   "id": "77802613-3386-4087-b7ac-522f1e6c2c17",
   "metadata": {},
   "source": [
    "Select the first time."
   ]
  },
  {
   "cell_type": "code",
   "execution_count": 6,
   "id": "f4532331-d4c8-49a4-a116-66c05559c724",
   "metadata": {},
   "outputs": [],
   "source": [
    "u=np.squeeze(data.variables['uo'][0,:,:,:])\n",
    "v=np.squeeze(data.variables['vo'][0,:,:,:])\n",
    "t = time.values[0]\n"
   ]
  },
  {
   "cell_type": "code",
   "execution_count": 7,
   "id": "c6c7d123-7b09-4aeb-812c-7854d944af5b",
   "metadata": {},
   "outputs": [],
   "source": [
    "CurrMag=np.sqrt(u**2+v**2)"
   ]
  },
  {
   "cell_type": "code",
   "execution_count": 8,
   "id": "894e9e84-0c22-4657-8e12-f3191691f7a1",
   "metadata": {},
   "outputs": [],
   "source": [
    "x, y = np.meshgrid(lon,lat)"
   ]
  },
  {
   "cell_type": "code",
   "execution_count": 9,
   "id": "d488083d-fbf8-4f59-86f5-7480f19f6496",
   "metadata": {},
   "outputs": [],
   "source": [
    "# mask data\n",
    "m = np.ma.masked_invalid(CurrMag)\n",
    "u_m = np.ma.masked_invalid(u)\n",
    "v_m = np.ma.masked_invalid(v)"
   ]
  },
  {
   "cell_type": "code",
   "execution_count": 10,
   "id": "b1110d5c-8f60-4c87-b76a-4b06f1463e4b",
   "metadata": {},
   "outputs": [
    {
     "name": "stdout",
     "output_type": "stream",
     "text": [
      "(37, 37)\n",
      "(37, 37)\n",
      "(37, 37)\n",
      "(37, 37)\n",
      "(37, 37)\n"
     ]
    }
   ],
   "source": [
    "print(x.shape)\n",
    "print(y.shape)\n",
    "print(u.shape)\n",
    "print(v.shape)\n",
    "print(m.shape)"
   ]
  },
  {
   "cell_type": "code",
   "execution_count": 11,
   "id": "f367e09f-71c9-4470-a56c-b2f55705b9e1",
   "metadata": {},
   "outputs": [
    {
     "ename": "SyntaxError",
     "evalue": "invalid syntax (1969529941.py, line 11)",
     "output_type": "error",
     "traceback": [
      "\u001b[0;36m  File \u001b[0;32m\"/tmp/ipykernel_2641/1969529941.py\"\u001b[0;36m, line \u001b[0;32m11\u001b[0m\n\u001b[0;31m    lon_ticks = [-76, -75, ,-74, -73]\u001b[0m\n\u001b[0m                           ^\u001b[0m\n\u001b[0;31mSyntaxError\u001b[0m\u001b[0;31m:\u001b[0m invalid syntax\n"
     ]
    }
   ],
   "source": [
    "fig = plt.figure(figsize=(8,12))\n",
    "proj = ccrs.PlateCarree()\n",
    "ax=fig.add_subplot(1,1,1,projection=proj)\n",
    "ax.set_extent([-76, -73, 36.5, 39.5])\n",
    "\n",
    "#mpl.rcParams['font.family'] = 'Times New Roman'\n",
    "\n",
    "ax.xaxis.set_major_formatter(LongitudeFormatter())\n",
    "ax.yaxis.set_major_formatter(LatitudeFormatter())\n",
    "\n",
    "lon_ticks = [-76, -75, -74, -73]\n",
    "lat_ticks = [37, 38, 39]\n",
    "\n",
    "ax.set_xticks(lon_ticks, crs=ccrs.PlateCarree())\n",
    "ax.set_yticks(lat_ticks, crs=ccrs.PlateCarree())\n",
    "\n",
    "ax.xaxis.set_tick_params(which='major', size=2., width=1, direction='in', top='on', pad=7)\n",
    "ax.yaxis.set_tick_params(which='major', size=2., width=1, direction='in', right='on',pad=7)\n",
    "\n",
    "ax.tick_params(labelleft=True,labelbottom=True,labeltop=True,labelright=True)  \n",
    "\n",
    "\n",
    "ax.add_feature(cfeature.LAND.with_scale('10m'), color='grey', alpha=0.4)\n",
    "\n",
    "ax.coastlines(resolution='10m',linewidth=0.3)\n",
    "\n",
    "bounds = np.array([0.,0.5,1.,1.5])\n",
    "norm = mpl.colors.Normalize(vmin=0., vmax=1.5)\n",
    "\n",
    "cf=ax.quiver(x,y,u,v,m,cmap=plt.cm.jet,scale=10,width=.0015,norm=norm)\n",
    "\n",
    "qk = ax.quiverkey(cf, 0.8, 0.58, 0.5, label='$0.5 \\ m/s$', labelpos='E',\n",
    "                   coordinates='figure')\n",
    "\n",
    "\n",
    "cax,kw = mpl.colorbar.make_axes(ax,location='bottom',pad=0.05,aspect=50)\n",
    "\n",
    "out=fig.colorbar(cf,cax=cax,ticks=bounds,extend='max',**kw)\n",
    "out.set_label('Surface Current Velocity (m/s)',size=10)\n",
    "out.ax.tick_params(direction='in',size=2., width=1)\n",
    "\n",
    "ax.set_title(t, loc='center',fontdict=dict(size=12, weight='bold'))\n",
    "\n",
    "plt.savefig('hf_radar_alt.png', dpi=300, transparent=False, bbox_inches='tight')\n"
   ]
  },
  {
   "cell_type": "code",
   "execution_count": null,
   "id": "9234414f-f802-49c2-98da-d21962bf3d64",
   "metadata": {},
   "outputs": [],
   "source": []
  }
 ],
 "metadata": {
  "kernelspec": {
   "display_name": "Python 3 (ipykernel)",
   "language": "python",
   "name": "python3"
  },
  "language_info": {
   "codemirror_mode": {
    "name": "ipython",
    "version": 3
   },
   "file_extension": ".py",
   "mimetype": "text/x-python",
   "name": "python",
   "nbconvert_exporter": "python",
   "pygments_lexer": "ipython3",
   "version": "3.9.6"
  }
 },
 "nbformat": 4,
 "nbformat_minor": 5
}

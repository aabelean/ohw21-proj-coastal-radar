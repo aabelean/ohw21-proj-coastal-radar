{
 "cells": [
  {
   "cell_type": "code",
   "execution_count": 1,
   "id": "b226d0a5-bc59-489d-9c4c-e1fc7ec1917e",
   "metadata": {},
   "outputs": [],
   "source": [
    "from netCDF4 import Dataset\n",
    "import netCDF4 as netcdf\n",
    "import numpy as np\n",
    "import matplotlib.pyplot as plt\n",
    "import matplotlib.ticker as mticker\n",
    "import matplotlib as mpl\n",
    "\n",
    "#mapping\n",
    "import cartopy.crs as ccrs\n",
    "import cartopy.feature as cfeature\n",
    "from cartopy.io import shapereader\n",
    "from cartopy.mpl.gridliner import LONGITUDE_FORMATTER, LATITUDE_FORMATTER\n",
    "from cartopy.mpl.ticker import LongitudeFormatter, LatitudeFormatter\n",
    "\n",
    "import xarray as xr\n",
    "import xarray.ufuncs as xu\n",
    "from scipy.interpolate import griddata\n",
    "#from pyresample.geometry import SwathDefinition\n",
    "#from pyresample.kd_tree import resample_nearest"
   ]
  },
  {
   "cell_type": "code",
   "execution_count": 2,
   "id": "3150fce9-40d2-4cc2-8247-de451ba94d3f",
   "metadata": {},
   "outputs": [],
   "source": [
    "hfr_loc = \"./data/hf_radar_05_2020.nc\"\n",
    "hfrdata = xr.open_dataset(hfr_loc)\n",
    "cmems_loc = \"./data/CMEMS-global-analysis-forecast-phy-001-024-hourly-u-v.nc\"\n",
    "cmemsdata = xr.open_dataset(cmems_loc)"
   ]
  },
  {
   "cell_type": "code",
   "execution_count": 3,
   "id": "5002da48-f608-49d8-807a-b48b88e2f414",
   "metadata": {},
   "outputs": [],
   "source": [
    "lat_hfr=hfrdata.variables['lat'][:]\n",
    "lon_hfr=hfrdata.variables['lon'][:]\n",
    "time_hfr=hfrdata.variables['time'][:]\n",
    "u_hfr=hfrdata.variables['u'][:,:,:]\n",
    "v_hfr=hfrdata.variables['v'][:,:,:]\n",
    "\n",
    "lat_cmems=cmemsdata.variables['latitude'][:]\n",
    "lon_cmems=cmemsdata.variables['longitude'][:]\n",
    "time_cmems=cmemsdata.variables['time'][:]\n",
    "u_cmems=cmemsdata.variables['uo'][:,:,:]\n",
    "v_cmems=cmemsdata.variables['vo'][:,:,:]"
   ]
  },
  {
   "cell_type": "raw",
   "id": "a4223b2e-3e31-4178-b5d7-1feebf148830",
   "metadata": {},
   "source": [
    "Create a meshgrid with hfr and model positions.  Take the meshgrid values, convert to single columns and then remove the NaNs."
   ]
  },
  {
   "cell_type": "code",
   "execution_count": null,
   "id": "17f866f4-ca09-4910-aff1-740fc4ee7e9c",
   "metadata": {},
   "outputs": [],
   "source": []
  },
  {
   "cell_type": "code",
   "execution_count": 4,
   "id": "a7b5d5e9-27f3-484b-ad05-b0fe666d23ce",
   "metadata": {},
   "outputs": [
    {
     "data": {
      "text/plain": [
       "(37, 37)"
      ]
     },
     "execution_count": 4,
     "metadata": {},
     "output_type": "execute_result"
    }
   ],
   "source": [
    "x_hfr, y_hfr = np.meshgrid(lon_hfr,lat_hfr)\n",
    "hfr_meshx = x_hfr.ravel()\n",
    "hfr_meshy = y_hfr.ravel()\n",
    "\n",
    "x_cmems, y_cmems = np.meshgrid(lon_cmems,lat_cmems)\n",
    "#cmems_meshx = x_cmems.ravel()\n",
    "#cmems_meshy = y_cmems.ravel()\n",
    "#cmems_meshu = u_cmems.values.ravel()\n",
    "#cmems_meshv = v_cmems.values.ravel()\n",
    "#indexc = ~np.isnan(cmems_meshu)\n",
    "#cmems_meshu = cmems_meshu[indexc]\n",
    "#cmems_meshv = cmems_meshv[indexc]\n",
    "#cmems_meshx = cmems_meshx[indexc]\n",
    "#cmems_meshy = cmems_meshy[indexc]\n",
    "x_cmems.shape"
   ]
  },
  {
   "cell_type": "markdown",
   "id": "457cd754-7260-4a64-a355-cff03f985b19",
   "metadata": {},
   "source": [
    "Put HFR U and V components onto the model grid"
   ]
  },
  {
   "cell_type": "code",
   "execution_count": 5,
   "id": "e14f6d7b-ec16-43ce-b20d-20c4c3bc052b",
   "metadata": {},
   "outputs": [
    {
     "data": {
      "text/plain": [
       "(744, 37, 37)"
      ]
     },
     "execution_count": 5,
     "metadata": {},
     "output_type": "execute_result"
    }
   ],
   "source": [
    "HFRU = []\n",
    "HFRV = []\n",
    "for i in enumerate(u_hfr[:,0,0]):\n",
    "    u_nonan = np.nan_to_num(u_hfr[i[0],:,:], copy=True, nan=9999.0, posinf=None, neginf=None) \n",
    "    v_nonan = np.nan_to_num(v_hfr[i[0],:,:], copy=True, nan=9999.0, posinf=None, neginf=None) \n",
    "    \n",
    "    #print(speed_nonan.ravel().shape)\n",
    "    #i[0]\n",
    "    #print(i[0])\n",
    "    HFRU_i = griddata((hfr_meshx.ravel(), hfr_meshy.ravel()), u_nonan.ravel(), (x_cmems, y_cmems), method='linear')\n",
    "    HFRV_i = griddata((hfr_meshx.ravel(), hfr_meshy.ravel()), v_nonan.ravel(), (x_cmems, y_cmems), method='linear')\n",
    " \n",
    "    HFRU.append(np.array(HFRU_i))\n",
    "    HFRV.append(np.array(HFRV_i))\n",
    "HFRU = np.array(HFRU)\n",
    "HFRV = np.array(HFRV)\n",
    "HFRU.shape"
   ]
  },
  {
   "cell_type": "code",
   "execution_count": 6,
   "id": "2e01a529-05bc-4763-94a1-5bc92b92e817",
   "metadata": {},
   "outputs": [],
   "source": [
    "HFR_U = np.ma.masked_where(HFRU > 250, HFRU)\n",
    "HFR_V = np.ma.masked_where(HFRV > 250, HFRV)"
   ]
  },
  {
   "cell_type": "markdown",
   "id": "b9961dd6-e086-467a-be16-7fdf0bd42d07",
   "metadata": {},
   "source": [
    "Compute bias for U and V"
   ]
  },
  {
   "cell_type": "code",
   "execution_count": 7,
   "id": "1a1e3cc8-698a-4d38-afcd-088210954012",
   "metadata": {},
   "outputs": [
    {
     "data": {
      "text/plain": [
       "(744, 37, 37)"
      ]
     },
     "execution_count": 7,
     "metadata": {},
     "output_type": "execute_result"
    }
   ],
   "source": [
    "MODEL_U = np.squeeze(u_cmems)\n",
    "MODEL_V = np.squeeze(v_cmems)\n",
    "MODEL_U.shape"
   ]
  },
  {
   "cell_type": "code",
   "execution_count": 8,
   "id": "962f5138-444c-4120-9606-cf88e98ee5c7",
   "metadata": {},
   "outputs": [],
   "source": [
    "a = HFR_U\n",
    "b = MODEL_U"
   ]
  },
  {
   "cell_type": "code",
   "execution_count": 9,
   "id": "5a795381-b901-4b27-9025-6c7373ecaa25",
   "metadata": {},
   "outputs": [],
   "source": [
    "an=np.nan_to_num(a, copy=True, nan=0.0, posinf=None, neginf=None)\n",
    "nz = np.count_nonzero(~np.isnan(an))\n",
    "abar=np.sum(an,axis=0)/nz\n",
    "\n",
    "bn=np.nan_to_num(b, copy=True, nan=0.0, posinf=None, neginf=None)\n",
    "bnz = np.count_nonzero(~np.isnan(bn))\n",
    "bbar=np.sum(bn,axis=0)/bnz\n",
    "\n",
    "Ubias = abar - bbar"
   ]
  },
  {
   "cell_type": "code",
   "execution_count": 19,
   "id": "90857939-8d01-4887-a181-8b87ab2280be",
   "metadata": {},
   "outputs": [
    {
     "data": {
      "text/plain": [
       "<matplotlib.collections.QuadMesh at 0x7fa9a4252df0>"
      ]
     },
     "execution_count": 19,
     "metadata": {},
     "output_type": "execute_result"
    },
    {
     "data": {
      "image/png": "[encoded data removed]",
      "text/plain": [
       "<Figure size 432x288 with 1 Axes>"
      ]
     },
     "metadata": {
      "needs_background": "light"
     },
     "output_type": "display_data"
    }
   ],
   "source": [
    "#fig = plt.figure(figsize=(8,12))\n",
    "#proj = ccrs.PlateCarree()\n",
    "#ax=fig.add_subplot(1,1,1,projection=proj)\n",
    "#ax.set_extent([-76, -73, 36.5, 39.5])\n",
    "plt.pcolormesh(x_cmems, y_cmems,Ubias,shading='auto')\n",
    "# add colorbar\n",
    "#cax,kw = mpl.colorbar()\n"
   ]
  },
  {
   "cell_type": "code",
   "execution_count": 24,
   "id": "ce4e3c17-279e-40c6-a603-d85dc074b457",
   "metadata": {},
   "outputs": [
    {
     "data": {
      "text/plain": [
       "masked_array(\n",
       "  data=[[0.0, -6.832195925480566e-06, -1.1508819509487185e-05, ...,\n",
       "         -0.0007640330733814883, -0.0007486819408222623,\n",
       "         -0.0007174494047093083],\n",
       "        [0.0, --, --, ..., --, --, -0.0007611878629826904],\n",
       "        [0.0, --, --, ..., --, --, -0.000788290229838771],\n",
       "        ...,\n",
       "        [0.0, --, --, ..., 4.140415277605767e-05, 4.396040790856547e-05,\n",
       "         5.295258720705541e-05],\n",
       "        [4.542408850765358e-06, --, --, ..., 3.443936305252694e-05,\n",
       "         3.869906771757563e-05, 4.5545092720176696e-05],\n",
       "        [4.478886180336479e-06, 0.0, 0.0, ..., 1.757756175560571e-05,\n",
       "         2.33173096956264e-05, 2.7079468245641753e-05]],\n",
       "  mask=[[False, False, False, ..., False, False, False],\n",
       "        [False,  True,  True, ...,  True,  True, False],\n",
       "        [False,  True,  True, ...,  True,  True, False],\n",
       "        ...,\n",
       "        [False,  True,  True, ..., False, False, False],\n",
       "        [False,  True,  True, ..., False, False, False],\n",
       "        [False, False, False, ..., False, False, False]],\n",
       "  fill_value=1e+20)"
      ]
     },
     "execution_count": 24,
     "metadata": {},
     "output_type": "execute_result"
    }
   ],
   "source": [
    "Ubias"
   ]
  },
  {
   "cell_type": "code",
   "execution_count": 12,
   "id": "168b9ea5-352a-4081-b72b-8f3de869a50a",
   "metadata": {},
   "outputs": [],
   "source": [
    "a = HFR_V\n",
    "b = MODEL_V"
   ]
  },
  {
   "cell_type": "code",
   "execution_count": 13,
   "id": "d5db8c30-a74c-4bfb-a97b-e82790492741",
   "metadata": {},
   "outputs": [],
   "source": [
    "an=np.nan_to_num(a, copy=True, nan=0.0, posinf=None, neginf=None)\n",
    "nz = np.count_nonzero(~np.isnan(an))\n",
    "abar=np.sum(an,axis=0)/nz\n",
    "\n",
    "bn=np.nan_to_num(b, copy=True, nan=0.0, posinf=None, neginf=None)\n",
    "bnz = np.count_nonzero(~np.isnan(bn))\n",
    "bbar=np.sum(bn,axis=0)/bnz\n",
    "\n",
    "Vbias = abar - bbar"
   ]
  },
  {
   "cell_type": "code",
   "execution_count": 14,
   "id": "f357ff37-96f1-470f-9589-b60b5abc4bdb",
   "metadata": {},
   "outputs": [
    {
     "data": {
      "text/plain": [
       "<matplotlib.collections.QuadMesh at 0x7fa9e40fe460>"
      ]
     },
     "execution_count": 14,
     "metadata": {},
     "output_type": "execute_result"
    },
    {
     "data": {
      "image/png": "[encoded data removed]",
      "text/plain": [
       "<Figure size 432x288 with 1 Axes>"
      ]
     },
     "metadata": {
      "needs_background": "light"
     },
     "output_type": "display_data"
    }
   ],
   "source": [
    "plt.pcolormesh(x_cmems, y_cmems,Vbias,shading='auto')"
   ]
  },
  {
   "cell_type": "code",
   "execution_count": 30,
   "id": "08b1b5da-cac5-457e-8367-e802480e87d3",
   "metadata": {},
   "outputs": [
    {
     "data": {
      "text/plain": [
       "0.03191229578882796"
      ]
     },
     "execution_count": 30,
     "metadata": {},
     "output_type": "execute_result"
    }
   ],
   "source": [
    "np.max(Ubias)\n"
   ]
  },
  {
   "cell_type": "code",
   "execution_count": 29,
   "id": "bbed5209-5870-4433-8441-fa00cecebb0e",
   "metadata": {},
   "outputs": [
    {
     "data": {
      "text/plain": [
       "0.031948183017478114"
      ]
     },
     "execution_count": 29,
     "metadata": {},
     "output_type": "execute_result"
    }
   ],
   "source": [
    "np.max(Vbias)"
   ]
  },
  {
   "cell_type": "code",
   "execution_count": null,
   "id": "9062b0b3-85f6-473c-ab74-3652e6164b7a",
   "metadata": {},
   "outputs": [],
   "source": []
  }
 ],
 "metadata": {
  "kernelspec": {
   "display_name": "Python 3 (ipykernel)",
   "language": "python",
   "name": "python3"
  },
  "language_info": {
   "codemirror_mode": {
    "name": "ipython",
    "version": 3
   },
   "file_extension": ".py",
   "mimetype": "text/x-python",
   "name": "python",
   "nbconvert_exporter": "python",
   "pygments_lexer": "ipython3",
   "version": "3.9.6"
  }
 },
 "nbformat": 4,
 "nbformat_minor": 5
}

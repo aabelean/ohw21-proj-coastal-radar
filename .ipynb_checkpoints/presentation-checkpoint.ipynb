{
 "cells": [
  {
   "cell_type": "markdown",
   "id": "3c40a22f-e10b-4a23-92d9-4b1984b0c1a7",
   "metadata": {},
   "source": [
    "# Working with Coastal Radar Data\n",
    "\n",
    "This project is a demonstration of how to read, subset and visualize HF radar data. Specifically, the IOOS HFRADAR US East and Gulf Coast 6km Resolution Hourly RTV dataset. The dataset's THREDDS catalog can be found in the link below:\n",
    "\n",
    "https://hfrnet-tds.ucsd.edu/thredds/HFRADAR_USEGC.html\n",
    "\n",
    "The urls have to be modified accordingly to use a different dataset.\n",
    "\n",
    "Another goal of this project is to compare with the geostrophic current velocities estimated from satellite altimeter sea level anomaly data and the CMEMS global analysis. Please note that the global analysis system is not assimilating the US East Coast HF radar observations.\n",
    "\n",
    "The satellite altimeter dataset used is XTRACK which is dedicated for coastal applications.\n",
    "\n",
    "https://www.aviso.altimetry.fr/index.php?id=3047\n",
    "\n",
    "Information about the Copernicus Marine Environmental Monitoring Service (CMEMS) global analysis forecast model can be found here:\n",
    "\n",
    "https://resources.marine.copernicus.eu/?option=com_csw&view=details&product_id=GLOBAL_ANALYSIS_FORECAST_PHY_001_024"
   ]
  },
  {
   "cell_type": "code",
   "execution_count": null,
   "id": "55e1832a-69be-4303-862c-52c7df630290",
   "metadata": {},
   "outputs": [],
   "source": []
  }
 ],
 "metadata": {
  "kernelspec": {
   "display_name": "Python 3 (ipykernel)",
   "language": "python",
   "name": "python3"
  },
  "language_info": {
   "codemirror_mode": {
    "name": "ipython",
    "version": 3
   },
   "file_extension": ".py",
   "mimetype": "text/x-python",
   "name": "python",
   "nbconvert_exporter": "python",
   "pygments_lexer": "ipython3",
   "version": "3.9.6"
  }
 },
 "nbformat": 4,
 "nbformat_minor": 5
}

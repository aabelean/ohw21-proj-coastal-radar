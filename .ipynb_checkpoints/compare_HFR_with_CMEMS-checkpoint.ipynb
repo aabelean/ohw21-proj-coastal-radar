{
 "cells": [
  {
   "cell_type": "code",
   "execution_count": 68,
   "id": "2ba145af-4ad4-448f-bbae-f6cf952681d2",
   "metadata": {},
   "outputs": [],
   "source": [
    "from netCDF4 import Dataset\n",
    "import netCDF4 as netcdf\n",
    "import numpy as np\n",
    "import matplotlib.pyplot as plt\n",
    "import matplotlib.ticker as mticker\n",
    "import matplotlib as mpl\n",
    "\n",
    "#mapping\n",
    "import cartopy.crs as ccrs\n",
    "import cartopy.feature as cfeature\n",
    "from cartopy.io import shapereader\n",
    "from cartopy.mpl.gridliner import LONGITUDE_FORMATTER, LATITUDE_FORMATTER\n",
    "from cartopy.mpl.ticker import LongitudeFormatter, LatitudeFormatter\n",
    "\n",
    "import xarray as xr\n",
    "import xarray.ufuncs as xu\n",
    "from scipy.interpolate import griddata\n",
    "#from pyresample.geometry import SwathDefinition\n",
    "#from pyresample.kd_tree import resample_nearest"
   ]
  },
  {
   "cell_type": "code",
   "execution_count": 69,
   "id": "686c3971-a081-40de-95cf-17c3428b0fd6",
   "metadata": {},
   "outputs": [],
   "source": [
    "hfr_loc = \"./data/hf_radar_05_2020.nc\" "
   ]
  },
  {
   "cell_type": "code",
   "execution_count": 92,
   "id": "49457574-b09b-4e24-8372-147fccf6b9fa",
   "metadata": {},
   "outputs": [],
   "source": [
    "hfrdata = xr.open_dataset(hfr_loc)"
   ]
  },
  {
   "cell_type": "code",
   "execution_count": 71,
   "id": "f6ec0056-db79-4268-9ea4-f8a84c1cf3a0",
   "metadata": {},
   "outputs": [],
   "source": [
    "lat_hfr=hfrdata.variables['lat'][:]\n",
    "lon_hfr=hfrdata.variables['lon'][:]\n",
    "time_hfr=hfrdata.variables['time'][:]\n"
   ]
  },
  {
   "cell_type": "code",
   "execution_count": 72,
   "id": "82269817-03a0-44a6-ae85-71c0b7e2a859",
   "metadata": {},
   "outputs": [
    {
     "name": "stdout",
     "output_type": "stream",
     "text": [
      "(56,)\n",
      "(52,)\n"
     ]
    }
   ],
   "source": [
    "print(lat_hfr.shape)\n",
    "print(lon_hfr.shape)"
   ]
  },
  {
   "cell_type": "code",
   "execution_count": 73,
   "id": "741b2a3b-084a-4a9c-b882-58d9de8561e0",
   "metadata": {},
   "outputs": [],
   "source": [
    "u_hfr=hfrdata.variables['u'][0,:,:]\n",
    "v_hfr=hfrdata.variables['v'][0,:,:]"
   ]
  },
  {
   "cell_type": "code",
   "execution_count": 74,
   "id": "eb8143f1-a8ec-4d83-b7ce-506ab7cbd9df",
   "metadata": {},
   "outputs": [
    {
     "name": "stdout",
     "output_type": "stream",
     "text": [
      "<xarray.Variable (lat: 56, lon: 52)>\n",
      "array([[       nan,        nan,        nan, ...,        nan,        nan,\n",
      "               nan],\n",
      "       [       nan,        nan,        nan, ...,        nan,        nan,\n",
      "               nan],\n",
      "       [       nan,        nan,        nan, ...,        nan,        nan,\n",
      "               nan],\n",
      "       ...,\n",
      "       [       nan,        nan,        nan, ..., 0.12165525, 0.1264911 ,\n",
      "        0.15264337],\n",
      "       [       nan,        nan,        nan, ..., 0.1118034 , 0.18027756,\n",
      "        0.1720465 ],\n",
      "       [       nan,        nan,        nan, ..., 0.12369317, 0.11661904,\n",
      "        0.1360147 ]], dtype=float32)\n"
     ]
    }
   ],
   "source": [
    "CurrMag=np.sqrt(u_hfr**2+v_hfr**2)\n",
    "print(CurrMag)"
   ]
  },
  {
   "cell_type": "code",
   "execution_count": 75,
   "id": "c008444f-e7d4-4ccd-b3f7-91b38987e9a6",
   "metadata": {},
   "outputs": [],
   "source": [
    "x_hfr, y_hfr = np.meshgrid(lon_hfr,lat_hfr)\n",
    "newx = x_hfr.ravel()\n",
    "newy = y_hfr.ravel()\n",
    "newCurrMag = CurrMag.values.ravel()\n",
    "newCurrMag.shape\n",
    "index = ~np.isnan(newCurrMag)\n",
    "hfr_speed = newCurrMag[index]\n",
    "hfr_x = newx[index]\n",
    "hfr_y = newy[index]"
   ]
  },
  {
   "cell_type": "code",
   "execution_count": 76,
   "id": "2cc67d46-4187-4c6f-a27c-6fea0e8fa6f9",
   "metadata": {},
   "outputs": [
    {
     "data": {
      "text/plain": [
       "((1732,), (1732,), (1732,))"
      ]
     },
     "execution_count": 76,
     "metadata": {},
     "output_type": "execute_result"
    }
   ],
   "source": [
    "hfr_speed.shape,hfr_x.shape,hfr_y.shape"
   ]
  },
  {
   "cell_type": "code",
   "execution_count": 77,
   "id": "7219e22c-3566-4a0f-a1ce-b8b6daf60dd0",
   "metadata": {},
   "outputs": [],
   "source": [
    "cmems_loc = \"./data/CMEMS-global-analysis-forecast-phy-001-024-hourly-u-v.nc\" "
   ]
  },
  {
   "cell_type": "code",
   "execution_count": 78,
   "id": "a15bc582-daaf-4ed3-8b62-f728c22b4d14",
   "metadata": {},
   "outputs": [],
   "source": [
    "cmemsdata = xr.open_dataset(cmems_loc)"
   ]
  },
  {
   "cell_type": "code",
   "execution_count": 79,
   "id": "cf5ea950-0969-48b0-86f4-da673cbccab7",
   "metadata": {},
   "outputs": [],
   "source": [
    "lat_cmems=cmemsdata.variables['latitude'][:]\n",
    "lon_cmems=cmemsdata.variables['longitude'][:]\n",
    "time_cmems=cmemsdata.variables['time'][:]"
   ]
  },
  {
   "cell_type": "code",
   "execution_count": 80,
   "id": "448a2bf4-5bed-4ccc-bfd9-51ee681e43f2",
   "metadata": {},
   "outputs": [],
   "source": [
    "u_cmems=np.squeeze(cmemsdata.variables['uo'][0,:,:,:])\n",
    "v_cmems=np.squeeze(cmemsdata.variables['vo'][0,:,:,:])\n",
    "t_cmems = time_cmems.values[0]"
   ]
  },
  {
   "cell_type": "code",
   "execution_count": 81,
   "id": "231c9c33-a89f-4bb4-a5b6-cdaf92e500c9",
   "metadata": {},
   "outputs": [],
   "source": [
    "CurrMag_cmems=np.sqrt(u_cmems**2+v_cmems**2)\n",
    "\n",
    "x_cmems, y_cmems = np.meshgrid(lon_cmems,lat_cmems)\n",
    "newxc = x_cmems.ravel()\n",
    "newyc = y_cmems.ravel()\n",
    "newCurrMagc = CurrMag_cmems.values.ravel()\n",
    "indexc = ~np.isnan(newCurrMagc)\n",
    "cmems_speed = newCurrMagc[indexc]\n",
    "cmems_xc = newxc[indexc]\n",
    "cmems_yc = newyc[indexc]"
   ]
  },
  {
   "cell_type": "code",
   "execution_count": 82,
   "id": "3a353d6b-17c1-4c4c-ab8c-a64f15904e79",
   "metadata": {},
   "outputs": [
    {
     "data": {
      "text/plain": [
       "((1732,), (1732,), (37, 37))"
      ]
     },
     "execution_count": 82,
     "metadata": {},
     "output_type": "execute_result"
    }
   ],
   "source": [
    "hfr_speed.shape, hfr_x.shape, x_cmems.shape"
   ]
  },
  {
   "cell_type": "code",
   "execution_count": 15,
   "id": "dfc162b7-7a5f-46dd-a3e3-032ecd4da15c",
   "metadata": {},
   "outputs": [],
   "source": [
    "hfr_speed_i = griddata((hfr_x, hfr_y), hfr_speed, (x_cmems, y_cmems), method='linear')"
   ]
  },
  {
   "cell_type": "code",
   "execution_count": 16,
   "id": "9a7c063f-8658-4585-ae85-f7c663018fb0",
   "metadata": {},
   "outputs": [],
   "source": [
    "cmems_speed_i = griddata((cmems_xc, cmems_yc), cmems_speed, (x_cmems, y_cmems), method='linear')"
   ]
  },
  {
   "cell_type": "code",
   "execution_count": 17,
   "id": "b9d616a0-98ba-463e-9e0b-f9ce7b1e6adb",
   "metadata": {},
   "outputs": [
    {
     "data": {
      "text/plain": [
       "<matplotlib.collections.QuadMesh at 0x7fbc12231100>"
      ]
     },
     "execution_count": 17,
     "metadata": {},
     "output_type": "execute_result"
    },
    {
     "data": {
      "image/png": "[encoded data removed]",
      "text/plain": [
       "<Figure size 432x288 with 1 Axes>"
      ]
     },
     "metadata": {
      "needs_background": "light"
     },
     "output_type": "display_data"
    }
   ],
   "source": [
    "plt.pcolormesh(x_cmems, y_cmems,hfr_speed_i,shading='auto')"
   ]
  },
  {
   "cell_type": "code",
   "execution_count": 18,
   "id": "f26b1122-b24c-41c1-bc0c-4c685149868c",
   "metadata": {},
   "outputs": [
    {
     "data": {
      "text/plain": [
       "<matplotlib.collections.QuadMesh at 0x7fbc12134400>"
      ]
     },
     "execution_count": 18,
     "metadata": {},
     "output_type": "execute_result"
    },
    {
     "data": {
      "image/png": "[encoded data removed]",
      "text/plain": [
       "<Figure size 432x288 with 1 Axes>"
      ]
     },
     "metadata": {
      "needs_background": "light"
     },
     "output_type": "display_data"
    }
   ],
   "source": [
    "plt.pcolormesh(x_cmems, y_cmems,cmems_speed_i,shading='auto')"
   ]
  },
  {
   "cell_type": "code",
   "execution_count": 94,
   "id": "a5e24de6-1083-4629-9f26-59dc23cf3922",
   "metadata": {},
   "outputs": [],
   "source": [
    "u_hfr_ts=hfrdata.variables['u'][:,:,:]\n",
    "v_hfr_ts=hfrdata.variables['v'][:,:,:]\n",
    "CurrMag_hfr=np.sqrt(u_hfr_ts**2+v_hfr_ts**2)\n",
    "\n",
    "u_cmems_ts=cmemsdata.variables['uo'][:,:,:]\n",
    "v_cmems_ts=cmemsdata.variables['vo'][:,:,:]\n",
    "CurrMag_cmems_ts=np.sqrt(u_cmems_ts**2+v_cmems_ts**2)\n",
    "\n",
    "\n"
   ]
  },
  {
   "cell_type": "code",
   "execution_count": 54,
   "id": "75d2e7d1-615e-4772-80f9-4d6cb9a5e403",
   "metadata": {},
   "outputs": [
    {
     "data": {
      "text/plain": [
       "(744, 56, 52)"
      ]
     },
     "execution_count": 54,
     "metadata": {},
     "output_type": "execute_result"
    }
   ],
   "source": [
    "CurrMag_hfr.shape"
   ]
  },
  {
   "cell_type": "code",
   "execution_count": 88,
   "id": "0f692a9c-48c1-4e25-b6ed-517f20d74ffa",
   "metadata": {},
   "outputs": [
    {
     "data": {
      "text/plain": [
       "(744, 37, 37)"
      ]
     },
     "execution_count": 88,
     "metadata": {},
     "output_type": "execute_result"
    }
   ],
   "source": [
    "hfr_speed = []\n",
    "for i in enumerate(u_hfr_ts[:,0,0]):\n",
    "    speed_nonan = np.nan_to_num(CurrMag_hfr[i[0],:,:], copy=True, nan=999.0, posinf=None, neginf=None) \n",
    "    #print(speed_nonan.ravel().shape)\n",
    "    #i[0]\n",
    "    #print(i[0])\n",
    "    hfr_speed_i = griddata((x_hfr.ravel(), y_hfr.ravel()), speed_nonan.ravel(), (x_cmems, y_cmems), method='linear')\n",
    "    hfr_speed.append(np.array(hfr_speed_i))\n",
    "hfr_speed = np.array(hfr_speed)\n",
    "hfr_speed.shape"
   ]
  },
  {
   "cell_type": "code",
   "execution_count": 98,
   "id": "97961405-370d-49b9-a721-784ba9cc001d",
   "metadata": {},
   "outputs": [
    {
     "data": {
      "text/plain": [
       "(744, 37, 37)"
      ]
     },
     "execution_count": 98,
     "metadata": {},
     "output_type": "execute_result"
    }
   ],
   "source": [
    "cmems_speed = np.squeeze(CurrMag_cmems_ts)\n",
    "cmems_speed.shape"
   ]
  },
  {
   "cell_type": "code",
   "execution_count": null,
   "id": "7108a7a6-8910-4bf0-a872-7c3c81f64470",
   "metadata": {},
   "outputs": [],
   "source": [
    "CurrDir = np.arctan2(v_hfr,v_hfr)\n"
   ]
  },
  {
   "cell_type": "code",
   "execution_count": 101,
   "id": "8ea2f04a-b5f0-4607-9a75-950d6632fd69",
   "metadata": {},
   "outputs": [
    {
     "data": {
      "text/plain": [
       "(37, 37)"
      ]
     },
     "execution_count": 101,
     "metadata": {},
     "output_type": "execute_result"
    }
   ],
   "source": [
    "test = np.sum(cmems_speed,axis=0)\n",
    "test.shape"
   ]
  },
  {
   "cell_type": "code",
   "execution_count": 109,
   "id": "faff783e-7561-4b0a-b7dd-732cb59e3ccb",
   "metadata": {},
   "outputs": [
    {
     "data": {
      "text/plain": [
       "((744, 37, 37), (744, 37, 37))"
      ]
     },
     "execution_count": 109,
     "metadata": {},
     "output_type": "execute_result"
    }
   ],
   "source": [
    "a = hfr_speed\n",
    "b = cmems_speed\n",
    "a.shape, b.shape"
   ]
  },
  {
   "cell_type": "code",
   "execution_count": 105,
   "id": "56d8346e-b34b-4099-91f5-f1c6b73ad54c",
   "metadata": {},
   "outputs": [],
   "source": [
    "an=np.nan_to_num(a, copy=True, nan=0.0, posinf=None, neginf=None)\n",
    "nz = np.count_nonzero(~np.isnan(an))\n",
    "abar=np.sum(an,axis=0)/nz\n",
    "\n",
    "bn=np.nan_to_num(b, copy=True, nan=0.0, posinf=None, neginf=None)\n",
    "bnz = np.count_nonzero(~np.isnan(bn))\n",
    "bbar=np.sum(bn,axis=0)/bnz\n",
    "\n",
    "bias = abar - bbar"
   ]
  },
  {
   "cell_type": "code",
   "execution_count": 106,
   "id": "75285155-46c3-422e-9d90-fec24cd5a62c",
   "metadata": {},
   "outputs": [
    {
     "data": {
      "text/plain": [
       "(37, 37)"
      ]
     },
     "execution_count": 106,
     "metadata": {},
     "output_type": "execute_result"
    }
   ],
   "source": [
    "bias.shape"
   ]
  },
  {
   "cell_type": "code",
   "execution_count": 108,
   "id": "f3383275-d64a-4942-b505-64bf1f8c7c34",
   "metadata": {},
   "outputs": [
    {
     "data": {
      "text/plain": [
       "<matplotlib.collections.QuadMesh at 0x7fbc104d9ee0>"
      ]
     },
     "execution_count": 108,
     "metadata": {},
     "output_type": "execute_result"
    },
    {
     "data": {
      "image/png": "[encoded data removed]",
      "text/plain": [
       "<Figure size 432x288 with 1 Axes>"
      ]
     },
     "metadata": {
      "needs_background": "light"
     },
     "output_type": "display_data"
    }
   ],
   "source": [
    "plt.pcolormesh(x_cmems, y_cmems,bias,shading='auto')"
   ]
  },
  {
   "cell_type": "code",
   "execution_count": null,
   "id": "b75f83e8-c2ff-4331-8880-56520bc3e8e5",
   "metadata": {},
   "outputs": [],
   "source": []
  }
 ],
 "metadata": {
  "kernelspec": {
   "display_name": "Python 3 (ipykernel)",
   "language": "python",
   "name": "python3"
  },
  "language_info": {
   "codemirror_mode": {
    "name": "ipython",
    "version": 3
   },
   "file_extension": ".py",
   "mimetype": "text/x-python",
   "name": "python",
   "nbconvert_exporter": "python",
   "pygments_lexer": "ipython3",
   "version": "3.9.6"
  }
 },
 "nbformat": 4,
 "nbformat_minor": 5
}
